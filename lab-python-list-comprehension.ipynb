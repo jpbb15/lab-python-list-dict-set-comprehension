{
 "cells": [
  {
   "cell_type": "markdown",
   "id": "25d7736c-ba17-4aff-b6bb-66eba20fbf4e",
   "metadata": {},
   "source": [
    "# Lab | List, Dict and Set Comprehension"
   ]
  },
  {
   "cell_type": "markdown",
   "id": "7dd3cbde-675a-4b81-92c3-f728846dbe06",
   "metadata": {},
   "source": [
    "## Exercise: Managing Customer Orders Optimized with Comprehension"
   ]
  },
  {
   "cell_type": "markdown",
   "id": "5d500160-2fb7-4777-b5e4-09d45ebaf328",
   "metadata": {},
   "source": [
    "In the previous exercise, you developed a program to manage customer orders and inventory. Now, let's take it a step further and incorporate comprehension into your code.\n",
    "\n",
    "Follow the steps below to complete the exercise:\n",
    "\n",
    "1. Review your code from the previous exercise and identify areas where you can apply comprehension to simplify and streamline your code. \n",
    "\n",
    "    - *Hint: Apply it to initialize inventory, updating the inventory and printing the updated inventory.*\n",
    "    \n",
    "    - For example, in initializing the inventory, we could have:\n",
    "    \n",
    "        ```python\n",
    "        def initialize_inventory(products):\n",
    "            inventory = {product: int(input(f\"Enter the quantity of {product}s available: \")) for product in products}\n",
    "            return inventory\n",
    "\n",
    "        ```\n",
    "<br>\n",
    "    \n",
    "    \n",
    "2. Modify the function get_customer_orders so it prompts the user to enter the number of customer orders and gathers the product names using a loop and user input. Use comprehension.\n",
    "\n",
    "3. Add a new function to calculate the total price of the customer order. For each product in customer_orders, prompt the user to enter the price of that product. Use comprehension to calculate the total price. Note: assume that the user can only have 1 unit of each product.\n",
    "\n",
    "4. Modify the update_inventory function to remove the product from the inventory if its quantity becomes zero after fulfilling the customer orders. Use comprehension to filter out the products with a quantity of zero from the inventory.\n",
    "\n",
    "5. Print the total price of the customer order.\n",
    "\n",
    "Your code should produce output similar to the following:\n",
    "\n",
    "```python\n",
    "Enter the quantity of t-shirts available:  5\n",
    "Enter the quantity of mugs available:  4\n",
    "Enter the quantity of hats available:  3\n",
    "Enter the quantity of books available:  2\n",
    "Enter the quantity of keychains available:  1\n",
    "Enter the number of customer orders:  2\n",
    "Enter the name of a product that a customer wants to order:  hat\n",
    "Enter the name of a product that a customer wants to order:  keychain\n",
    "\n",
    "Order Statistics:\n",
    "Total Products Ordered: 2\n",
    "Percentage of Unique Products Ordered: 40.0\n",
    "\n",
    "Updated Inventory:\n",
    "t-shirt: 5\n",
    "mug: 4\n",
    "hat: 2\n",
    "book: 2\n",
    "Enter the price of keychain:  5\n",
    "Enter the price of hat:  10\n",
    "Total Price: 15.0\n",
    "\n",
    "```\n"
   ]
  },
  {
   "cell_type": "code",
   "execution_count": 20,
   "id": "0d1889a0",
   "metadata": {},
   "outputs": [],
   "source": [
    "#1.1 Comprehension Application from the Lab Before \n",
    "\n",
    "# def initialize_inventory(products):\n",
    "\n",
    "#     inventory = {}\n",
    "\n",
    "#     for i in range(products):\n",
    "#         prod = input(\"Enter the product: \")\n",
    "#         quantity = int(input(\"Enter the quantity available: \"))\n",
    "#         inventory[prod] = quantity\n",
    "#     return inventory\n",
    "\n",
    "# inventory = initialize_inventory(5)\n",
    "\n",
    "#Lab before (functions) with comprehension\n",
    "\n",
    "def initialize_inventory(products):\n",
    "\n",
    "    inventory = {input(\"Enter the product: \"): int(input(\"Enter the quantity available: \")) for i in range(products)}\n",
    "    \n",
    "    return inventory\n",
    "\n",
    "inventory = initialize_inventory(5)"
   ]
  },
  {
   "cell_type": "code",
   "execution_count": 22,
   "id": "7d55901c",
   "metadata": {},
   "outputs": [
    {
     "data": {
      "text/plain": [
       "{'hat': 20, 'book': 20, 'keychain': 30, 't-shirt': 200}"
      ]
     },
     "execution_count": 22,
     "metadata": {},
     "output_type": "execute_result"
    }
   ],
   "source": [
    "inventory"
   ]
  },
  {
   "cell_type": "code",
   "execution_count": 23,
   "id": "da8a0e02",
   "metadata": {},
   "outputs": [],
   "source": [
    "#1.2 Comprehension Application from the Lab Before \n",
    "\n",
    "# def get_customer_orders():\n",
    "\n",
    "#     customer_orders = set()\n",
    "    \n",
    "#     for i in range(3):\n",
    "#         product_choice = input(\"Enter the  product that you want to order: \")\n",
    "#         customer_orders.add(product_choice)\n",
    "#     return customer_orders\n",
    "\n",
    "def get_customers_orders():\n",
    "\n",
    "    customer_orders = {input(\"Enter the  product that you want to order: \") for i in range(3)}\n",
    "    \n",
    "    return customer_orders\n",
    "\n",
    "customer_orders = get_customers_orders()"
   ]
  },
  {
   "cell_type": "code",
   "execution_count": 24,
   "id": "352b8219",
   "metadata": {},
   "outputs": [
    {
     "data": {
      "text/plain": [
       "{'book', 'hat', 'keychain'}"
      ]
     },
     "execution_count": 24,
     "metadata": {},
     "output_type": "execute_result"
    }
   ],
   "source": [
    "customer_orders"
   ]
  },
  {
   "cell_type": "code",
   "execution_count": 25,
   "id": "d44c9874",
   "metadata": {},
   "outputs": [],
   "source": [
    "#1.3 Comprehension Application from the Lab Before \n",
    "\n",
    "# def update_inventory(customer_orders, inventory):\n",
    "    \n",
    "#     for product in customer_orders:\n",
    "#         if product in inventory:\n",
    "#             inventory[product] -= 1\n",
    "#     return inventory\n",
    "\n",
    "# invetory = update_inventory(customer_orders, inventory)\n",
    "\n",
    "def update_inventory(customer_orders, inventory):\n",
    "    updated_inventory = {products:inventory[products] - 1 if products in customer_orders else inventory[products] for products in inventory}\n",
    "    return updated_inventory\n",
    "\n",
    "updated_inventory = update_inventory(customer_orders, inventory)\n"
   ]
  },
  {
   "cell_type": "code",
   "execution_count": 27,
   "id": "efe484cf",
   "metadata": {},
   "outputs": [
    {
     "data": {
      "text/plain": [
       "{'hat': 19, 'book': 19, 'keychain': 29, 't-shirt': 200}"
      ]
     },
     "execution_count": 27,
     "metadata": {},
     "output_type": "execute_result"
    }
   ],
   "source": [
    "updated_inventory"
   ]
  },
  {
   "cell_type": "code",
   "execution_count": 220,
   "id": "54b04d8f",
   "metadata": {},
   "outputs": [],
   "source": [
    "#1.4 Comprehension Application from the Lab Before \n",
    "\n",
    "#No Comprehension needed in this function\n",
    "\n",
    "def calculate_order_statistics(customer_orders, inventory):\n",
    "\n",
    "    total_products_ordered = len(customer_orders)\n",
    "    percentage_products_ordered = (len(customer_orders) / sum(inventory.values())) * 100\n",
    "    order_status = (total_products_ordered, percentage_products_ordered)\n",
    "\n",
    "    return order_status\n",
    "\n",
    "calc_order_stats = calculate_order_statistics(customer_orders, inventory) "
   ]
  },
  {
   "cell_type": "code",
   "execution_count": 156,
   "id": "97ae5bf0",
   "metadata": {},
   "outputs": [
    {
     "data": {
      "text/plain": [
       "(2, 1.1764705882352942)"
      ]
     },
     "execution_count": 156,
     "metadata": {},
     "output_type": "execute_result"
    }
   ],
   "source": [
    "calc_order_stats"
   ]
  },
  {
   "cell_type": "code",
   "execution_count": 221,
   "id": "fd94165e",
   "metadata": {},
   "outputs": [],
   "source": [
    "#1.5\n",
    "\n",
    "#No Comprehension needed in this function\n",
    "\n",
    "def print_order_statistics(calc_order_stats):\n",
    "    print(\"Total Products Ordered:\", calc_order_stats[0], \" Percentage of Products Ordered:\", calc_order_stats[1],\"%\")"
   ]
  },
  {
   "cell_type": "code",
   "execution_count": 222,
   "id": "8d85fcef",
   "metadata": {},
   "outputs": [
    {
     "name": "stdout",
     "output_type": "stream",
     "text": [
      "Total Products Ordered: 3  Percentage of Products Ordered: 1.1673151750972763 %\n"
     ]
    }
   ],
   "source": [
    "print_order_statistics(calc_order_stats)"
   ]
  },
  {
   "cell_type": "code",
   "execution_count": 223,
   "id": "66d7a432",
   "metadata": {},
   "outputs": [
    {
     "data": {
      "text/plain": [
       "{'t-shirt': 60, 'mug': 50, 'hat': 39, 'book': 89, 'keychain': 19}"
      ]
     },
     "execution_count": 223,
     "metadata": {},
     "output_type": "execute_result"
    }
   ],
   "source": [
    "updated_inventory"
   ]
  },
  {
   "cell_type": "code",
   "execution_count": 224,
   "id": "d2f6a5d4",
   "metadata": {},
   "outputs": [
    {
     "name": "stdout",
     "output_type": "stream",
     "text": [
      "{'t-shirt': 60, 'mug': 50, 'hat': 39, 'book': 89, 'keychain': 19}\n"
     ]
    }
   ],
   "source": [
    "#1.6\n",
    "\n",
    "#No Comprehension needed in this function\n",
    "\n",
    "def print_updated_inventory(updated_inventory):\n",
    "    print(updated_inventory)\n",
    "\n",
    "print_updated_inventory(updated_inventory)"
   ]
  },
  {
   "cell_type": "code",
   "execution_count": 21,
   "id": "a3cf2a85",
   "metadata": {},
   "outputs": [],
   "source": [
    "#New Dictonnaries with comprehension\n",
    "#Exercice 1\n",
    "\n",
    "def initialize_inventory(products):\n",
    "\n",
    "    inventory = {product: int(input(f\"Enter the quantity of {product}s available: \")) for product in products}\n",
    "    \n",
    "    return inventory\n",
    "\n",
    "inventory = initialize_inventory({'t-shirt', 'mug', 'hat', 'book', 'keychain'})"
   ]
  },
  {
   "cell_type": "code",
   "execution_count": 22,
   "id": "2d85ee64",
   "metadata": {},
   "outputs": [
    {
     "data": {
      "text/plain": [
       "{'keychain': 20, 't-shirt': 20, 'hat': 1, 'book': 1, 'mug': 1}"
      ]
     },
     "execution_count": 22,
     "metadata": {},
     "output_type": "execute_result"
    }
   ],
   "source": [
    "inventory"
   ]
  },
  {
   "cell_type": "code",
   "execution_count": 23,
   "id": "95ac76f4",
   "metadata": {},
   "outputs": [],
   "source": [
    "#2\n",
    "\n",
    "def get_customer_orders():\n",
    "\n",
    "    number_orders = int(input(\"Enter the number of customer orders: \"))\n",
    "    customer_orders = {input(f\"Enter the name of a product that a customer wants to order {n+1}: \") for n in range(number_orders)}\n",
    "    \n",
    "    return customer_orders"
   ]
  },
  {
   "cell_type": "code",
   "execution_count": 24,
   "id": "2098894e",
   "metadata": {},
   "outputs": [],
   "source": [
    "customer_orders = get_customer_orders()"
   ]
  },
  {
   "cell_type": "code",
   "execution_count": 25,
   "id": "ada850c6",
   "metadata": {},
   "outputs": [
    {
     "data": {
      "text/plain": [
       "{'book', 'hat'}"
      ]
     },
     "execution_count": 25,
     "metadata": {},
     "output_type": "execute_result"
    }
   ],
   "source": [
    "customer_orders"
   ]
  },
  {
   "cell_type": "code",
   "execution_count": 26,
   "id": "dc920030",
   "metadata": {},
   "outputs": [],
   "source": [
    "#3\n",
    "\n",
    "def price_products(customer_orders):\n",
    "\n",
    "    price_products_ordered = {p: float(input(f\"Enter the price of {p}: \")) for p in customer_orders}\n",
    "    total_price_products = sum(price_products_ordered[p] for p in customer_orders)\n",
    "\n",
    "    return total_price_products\n"
   ]
  },
  {
   "cell_type": "code",
   "execution_count": 27,
   "id": "e9d8652a",
   "metadata": {},
   "outputs": [],
   "source": [
    "total_price_products = price_products(customer_orders)"
   ]
  },
  {
   "cell_type": "code",
   "execution_count": 28,
   "id": "6dec5bcd",
   "metadata": {},
   "outputs": [],
   "source": [
    "#4\n",
    "def update_inventory(customer_orders, inventory):\n",
    "    \n",
    "    updated_inventory = {products:inventory[products] - 1 if products in customer_orders else inventory[products] for products in inventory}\n",
    "    inventory = {p:q for p,q in updated_inventory.items() if q > 0}\n",
    "\n",
    "    return inventory"
   ]
  },
  {
   "cell_type": "code",
   "execution_count": 29,
   "id": "02d1f9dc",
   "metadata": {},
   "outputs": [],
   "source": [
    "updated_inventory = update_inventory(customer_orders, inventory)"
   ]
  },
  {
   "cell_type": "code",
   "execution_count": 30,
   "id": "33e7fe47",
   "metadata": {},
   "outputs": [
    {
     "name": "stdout",
     "output_type": "stream",
     "text": [
      "{'keychain': 20, 't-shirt': 20, 'mug': 1}\n",
      "{'keychain': 20, 't-shirt': 20, 'hat': 1, 'book': 1, 'mug': 1}\n"
     ]
    }
   ],
   "source": [
    "print(updated_inventory)\n",
    "print(inventory)"
   ]
  },
  {
   "cell_type": "code",
   "execution_count": 31,
   "id": "c75271dd",
   "metadata": {},
   "outputs": [
    {
     "name": "stdout",
     "output_type": "stream",
     "text": [
      "Total Price: 50.0 €\n"
     ]
    }
   ],
   "source": [
    "#5\n",
    "print(\"Total Price:\", total_price_products,\"€\")"
   ]
  }
 ],
 "metadata": {
  "kernelspec": {
   "display_name": "Python 3 (ipykernel)",
   "language": "python",
   "name": "python3"
  },
  "language_info": {
   "codemirror_mode": {
    "name": "ipython",
    "version": 3
   },
   "file_extension": ".py",
   "mimetype": "text/x-python",
   "name": "python",
   "nbconvert_exporter": "python",
   "pygments_lexer": "ipython3",
   "version": "3.11.7"
  }
 },
 "nbformat": 4,
 "nbformat_minor": 5
}
